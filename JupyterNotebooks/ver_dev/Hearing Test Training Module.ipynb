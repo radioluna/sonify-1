{
 "cells": [
  {
   "cell_type": "code",
   "execution_count": 11,
   "metadata": {
    "hide_input": true,
    "slideshow": {
     "slide_type": "slide"
    }
   },
   "outputs": [
    {
     "name": "stdout",
     "output_type": "stream",
     "text": [
      "The UT Dallas Art Science Lab Training module 1 Click the arrow at the lower right or hit the space bar\n"
     ]
    }
   ],
   "source": [
    "from traitlets.config.manager import BaseJSONConfigManager\n",
    "path = \"/Users/art/anaconda3/envs/py36/etc/jupyter/nbconfig\"\n",
    "cm = BaseJSONConfigManager(config_dir=path)\n",
    "cm.update(\"livereveal\", {\"autolaunch\": True,\n",
    "                         \"theme\": \"sky\"} \n",
    ")\n",
    "# The UT Dallas Art Science Lab Training module 1\n",
    "print (\"The UT Dallas Art Science Lab Training module 1 Click the arrow at the lower right or hit the space bar\")"
   ]
  },
  {
   "cell_type": "code",
   "execution_count": 1,
   "metadata": {
    "hide_input": true,
    "slideshow": {
     "slide_type": "slide"
    }
   },
   "outputs": [
    {
     "data": {
      "application/vnd.jupyter.widget-view+json": {
       "model_id": "5a01577686a44158aad8a9c2bfd361ab",
       "version_major": 2,
       "version_minor": 0
      },
      "text/plain": [
       "Text(value='Enter your name: ')"
      ]
     },
     "metadata": {},
     "output_type": "display_data"
    }
   ],
   "source": [
    "import random\n",
    "import time\n",
    "from IPython.display import Image, display, clear_output\n",
    "from ipywidgets import widgets\n",
    "from gtts import gTTS\n",
    "import os\n",
    "\n",
    "introflag=0\n",
    "text=widgets.Text(\"Enter your name: \")\n",
    "name = str()\n",
    "display(text)\n",
    "def handle_submit(sender):\n",
    "    global name\n",
    "    global introflag\n",
    "    introflag=1\n",
    "    #print(\"Thank you\")\n",
    "    name=  (text.value.split(': ')[1])\n",
    "    tts = gTTS(text='Thank you '+ name +'      click the arrow at the lower left', lang='en')\n",
    "    tts.save(\"answer.mp3\") \n",
    "    os.system(\"afplay answer.mp3\")\n",
    "text.on_submit(handle_submit)\n",
    "    "
   ]
  },
  {
   "cell_type": "code",
   "execution_count": 2,
   "metadata": {
    "hide_input": true,
    "slideshow": {
     "slide_type": "slide"
    }
   },
   "outputs": [],
   "source": [
    "yesno=['Yes','No']\n",
    "button1 = widgets.Button(description = yesno[0])\n",
    "button2 = widgets.Button(description = yesno[1])\n",
    "tts = gTTS(text=name+' Do you have a hearing disability? Click Yes or No', lang='en')\n",
    "tts.save(\"answer.mp3\") \n",
    "os.system(\"afplay answer.mp3\")\n",
    "container = widgets.HBox(children=[button1,button2])\n",
    "display(container)\n",
    "\n",
    "    \n",
    "def on_button1_clicked(b):\n",
    "    choice = b.description\n",
    "    b.color = 'white'\n",
    "    tts = gTTS(text='Sorry ' + name + ' you should consult a professional hearing specialist before using a sonification product. However be assured none of the sounds used in our system are dangerous', lang='en')\n",
    "    tts.save(\"answer.mp3\") \n",
    "    os.system(\"afplay answer.mp3\")\n",
    "    clear_output()\n",
    "        \n",
    "def on_button2_clicked(b):\n",
    "    # [insert code to record choice] \n",
    "    tts = gTTS(text='That is great. However,we advise you take some time reading our next section about a free online listneing test', lang='en')\n",
    "    tts.save(\"answer.mp3\") \n",
    "    os.system(\"afplay answer.mp3\")\n",
    "    container.close()\n",
    "    clear_output()\n",
    "\n",
    "button1.on_click(on_button1_clicked)\n",
    "button2.on_click(on_button2_clicked)"
   ]
  },
  {
   "cell_type": "markdown",
   "metadata": {
    "hide_input": false,
    "slideshow": {
     "slide_type": "slide"
    }
   },
   "source": [
    "# Please put on your best headphones on and click the arrow at the lower right"
   ]
  },
  {
   "cell_type": "code",
   "execution_count": 2,
   "metadata": {
    "hide_input": true,
    "scrolled": false,
    "slideshow": {
     "slide_type": "slide"
    }
   },
   "outputs": [
    {
     "data": {
      "text/html": [
       "<video width=\"640\" height=\"480\" controls>\n",
       "  <source src=\"Listening_TestV2.mp4\" type=\"video/mp4\">\n",
       "</video>"
      ],
      "text/plain": [
       "<IPython.core.display.HTML object>"
      ]
     },
     "metadata": {},
     "output_type": "display_data"
    }
   ],
   "source": [
    "%%HTML\n",
    "<video width=\"640\" height=\"480\" controls>\n",
    "  <source src=\"Listening_TestV2.mp4\" type=\"video/mp4\">\n",
    "</video>"
   ]
  },
  {
   "cell_type": "markdown",
   "metadata": {
    "slideshow": {
     "slide_type": "slide"
    }
   },
   "source": [
    "# Hearing Test Training Module\n",
    "_You are about to embark on an adventure in listening_ \n",
    "It is important that you take the time to understanding your hearing. Everyone's hearing is slightly different. The first part of your path to listening for subtlties in spoken word, music and other sounds made from data is to self-evaluate your own hearing.\n",
    "We suggest that you grab your best headphones and that you take an online hearing test \n",
    "## Be sure and test both ears individually and print out the results of both those tests. \n",
    "__As you move forward in these sonification training modules these print outs will aid you in self-evaluating your understanding of sound in relationship to your own ears and the way YOU are hearing the world.__\n",
    "\n",
    "[ONLINE HEARING TEST link - click here](https://hearingtest.online) _REMEMBER: Print out the results for future reference_"
   ]
  },
  {
   "cell_type": "code",
   "execution_count": 3,
   "metadata": {
    "hide_input": false,
    "scrolled": true,
    "slideshow": {
     "slide_type": "slide"
    }
   },
   "outputs": [
    {
     "data": {
      "text/html": [
       "<video width=\"640\" height=\"480\" controls>\n",
       "  <source src=\"Wordification.mp4\" type=\"video/mp4\">\n",
       "</video>"
      ],
      "text/plain": [
       "<IPython.core.display.HTML object>"
      ]
     },
     "metadata": {},
     "output_type": "display_data"
    }
   ],
   "source": [
    "%%HTML\n",
    "<video width=\"640\" height=\"480\" controls>\n",
    "  <source src=\"Wordification.mp4\" type=\"video/mp4\">\n",
    "</video>"
   ]
  },
  {
   "cell_type": "code",
   "execution_count": null,
   "metadata": {},
   "outputs": [],
   "source": []
  }
 ],
 "metadata": {
  "celltoolbar": "Slideshow",
  "hide_input": false,
  "kernelspec": {
   "display_name": "Python 3",
   "language": "python",
   "name": "python3"
  },
  "language_info": {
   "codemirror_mode": {
    "name": "ipython",
    "version": 3
   },
   "file_extension": ".py",
   "mimetype": "text/x-python",
   "name": "python",
   "nbconvert_exporter": "python",
   "pygments_lexer": "ipython3",
   "version": "3.6.3"
  }
 },
 "nbformat": 4,
 "nbformat_minor": 2
}
