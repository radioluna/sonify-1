{
 "cells": [
  {
   "cell_type": "code",
   "execution_count": 1,
   "metadata": {},
   "outputs": [
    {
     "data": {
      "application/vnd.jupyter.widget-view+json": {
       "model_id": "7c614eab46ad4408aaa06eeb02d63ed1",
       "version_major": 2,
       "version_minor": 0
      },
      "text/plain": [
       "Text(value='Enter your name: ')"
      ]
     },
     "metadata": {},
     "output_type": "display_data"
    },
    {
     "name": "stdout",
     "output_type": "stream",
     "text": [
      "Thank you\n"
     ]
    }
   ],
   "source": [
    "import random\n",
    "import time\n",
    "from IPython.display import Image, display, clear_output\n",
    "from ipywidgets import widgets\n",
    "from gtts import gTTS\n",
    "import os\n",
    "\n",
    "introflag=0\n",
    "text=widgets.Text(\"Enter your name: \")\n",
    "name = str()\n",
    "display(text)\n",
    "def handle_submit(sender):\n",
    "    global name\n",
    "    global introflag\n",
    "    introflag=1\n",
    "    print(\"Thank you\")\n",
    "    name=  (text.value.split(': ')[1])\n",
    "    tts = gTTS(text='Thank you '+ name, lang='en')\n",
    "    tts.save(\"answer.mp3\") \n",
    "    os.system(\"afplay answer.mp3\")\n",
    "text.on_submit(handle_submit)\n",
    "    \n"
   ]
  },
  {
   "cell_type": "code",
   "execution_count": 2,
   "metadata": {},
   "outputs": [],
   "source": [
    "yesno=['Yes','No']\n",
    "button1 = widgets.Button(description = yesno[0])\n",
    "button2 = widgets.Button(description = yesno[1])\n",
    "tts = gTTS(text=name+' Do you have a hearing disability? Click Yes or No', lang='en')\n",
    "tts.save(\"answer.mp3\") \n",
    "os.system(\"afplay answer.mp3\")\n",
    "container = widgets.HBox(children=[button1,button2])\n",
    "display(container)\n",
    "\n",
    "    \n",
    "def on_button1_clicked(b):\n",
    "    choice = b.description\n",
    "    b.color = 'white'\n",
    "    tts = gTTS(text='Sorry ' + name + ' you should consult a professional hearing specialist before using a sonification product. However be assured none of the sounds used in our system are dangerous', lang='en')\n",
    "    tts.save(\"answer.mp3\") \n",
    "    os.system(\"afplay answer.mp3\")\n",
    "    clear_output()\n",
    "        \n",
    "def on_button2_clicked(b):\n",
    "    # [insert code to record choice] \n",
    "    tts = gTTS(text='That is great. However,we advise you take some time reading our next section about a free online listneing test', lang='en')\n",
    "    tts.save(\"answer.mp3\") \n",
    "    os.system(\"afplay answer.mp3\")\n",
    "    container.close()\n",
    "    clear_output()\n",
    "\n",
    "button1.on_click(on_button1_clicked)\n",
    "button2.on_click(on_button2_clicked)\n",
    "\n",
    "    \n",
    "\n",
    "\n",
    "    \n",
    "\n",
    "      \n",
    "\n",
    "\n",
    "        \n"
   ]
  },
  {
   "cell_type": "code",
   "execution_count": 13,
   "metadata": {},
   "outputs": [
    {
     "name": "stdout",
     "output_type": "stream",
     "text": [
      "\n"
     ]
    }
   ],
   "source": []
  },
  {
   "cell_type": "code",
   "execution_count": null,
   "metadata": {},
   "outputs": [],
   "source": []
  }
 ],
 "metadata": {
  "hide_input": false,
  "kernelspec": {
   "display_name": "Python 3",
   "language": "python",
   "name": "python3"
  },
  "language_info": {
   "codemirror_mode": {
    "name": "ipython",
    "version": 3
   },
   "file_extension": ".py",
   "mimetype": "text/x-python",
   "name": "python",
   "nbconvert_exporter": "python",
   "pygments_lexer": "ipython3",
   "version": "3.6.4"
  }
 },
 "nbformat": 4,
 "nbformat_minor": 2
}
