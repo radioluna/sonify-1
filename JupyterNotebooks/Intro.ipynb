{
 "cells": [
  {
   "cell_type": "code",
   "execution_count": 1,
   "metadata": {},
   "outputs": [
    {
     "ename": "ModuleNotFoundError",
     "evalue": "No module named 'gtts'",
     "output_type": "error",
     "traceback": [
      "\u001b[0;31m---------------------------------------------------------------------------\u001b[0m",
      "\u001b[0;31mModuleNotFoundError\u001b[0m                       Traceback (most recent call last)",
      "\u001b[0;32m<ipython-input-1-4fd93282857b>\u001b[0m in \u001b[0;36m<module>\u001b[0;34m()\u001b[0m\n\u001b[1;32m      3\u001b[0m \u001b[0;32mfrom\u001b[0m \u001b[0mIPython\u001b[0m\u001b[0;34m.\u001b[0m\u001b[0mdisplay\u001b[0m \u001b[0;32mimport\u001b[0m \u001b[0mImage\u001b[0m\u001b[0;34m,\u001b[0m \u001b[0mdisplay\u001b[0m\u001b[0;34m,\u001b[0m \u001b[0mclear_output\u001b[0m\u001b[0;34m\u001b[0m\u001b[0m\n\u001b[1;32m      4\u001b[0m \u001b[0;32mfrom\u001b[0m \u001b[0mipywidgets\u001b[0m \u001b[0;32mimport\u001b[0m \u001b[0mwidgets\u001b[0m\u001b[0;34m\u001b[0m\u001b[0m\n\u001b[0;32m----> 5\u001b[0;31m \u001b[0;32mfrom\u001b[0m \u001b[0mgtts\u001b[0m \u001b[0;32mimport\u001b[0m \u001b[0mgTTS\u001b[0m\u001b[0;34m\u001b[0m\u001b[0m\n\u001b[0m\u001b[1;32m      6\u001b[0m \u001b[0;32mimport\u001b[0m \u001b[0mos\u001b[0m\u001b[0;34m\u001b[0m\u001b[0m\n\u001b[1;32m      7\u001b[0m \u001b[0;34m\u001b[0m\u001b[0m\n",
      "\u001b[0;31mModuleNotFoundError\u001b[0m: No module named 'gtts'"
     ]
    }
   ],
   "source": [
    "import random\n",
    "import time\n",
    "from IPython.display import Image, display, clear_output\n",
    "from ipywidgets import widgets\n",
    "from gtts import gTTS\n",
    "import os\n",
    "\n",
    "introflag=0\n",
    "text=widgets.Text(\"Enter your name: \")\n",
    "name = str()\n",
    "display(text)\n",
    "def handle_submit(sender):\n",
    "    global name\n",
    "    global introflag\n",
    "    introflag=1\n",
    "    print(\"Thank you\")\n",
    "    name=  (text.value.split(': ')[1])\n",
    "    tts = gTTS(text='Thank you '+ name, lang='en')\n",
    "    tts.save(\"answer.mp3\") \n",
    "    os.system(\"afplay answer.mp3\")\n",
    "text.on_submit(handle_submit)\n",
    "    \n"
   ]
  },
  {
   "cell_type": "code",
   "execution_count": 4,
   "metadata": {},
   "outputs": [
    {
     "data": {
      "application/vnd.jupyter.widget-view+json": {
       "model_id": "570e3f340a9c435ea647821fa06ebb1f",
       "version_major": 2,
       "version_minor": 0
      },
      "text/html": [
       "<p>Failed to display Jupyter Widget of type <code>HBox</code>.</p>\n",
       "<p>\n",
       "  If you're reading this message in the Jupyter Notebook or JupyterLab Notebook, it may mean\n",
       "  that the widgets JavaScript is still loading. If this message persists, it\n",
       "  likely means that the widgets JavaScript library is either not installed or\n",
       "  not enabled. See the <a href=\"https://ipywidgets.readthedocs.io/en/stable/user_install.html\">Jupyter\n",
       "  Widgets Documentation</a> for setup instructions.\n",
       "</p>\n",
       "<p>\n",
       "  If you're reading this message in another frontend (for example, a static\n",
       "  rendering on GitHub or <a href=\"https://nbviewer.jupyter.org/\">NBViewer</a>),\n",
       "  it may mean that your frontend doesn't currently support widgets.\n",
       "</p>\n"
      ],
      "text/plain": [
       "HBox(children=(Button(description='Yes', style=ButtonStyle()), Button(description='No', style=ButtonStyle())))"
      ]
     },
     "metadata": {},
     "output_type": "display_data"
    }
   ],
   "source": [
    "yesno=['Yes','No']\n",
    "button1 = widgets.Button(description = yesno[0])\n",
    "button2 = widgets.Button(description = yesno[1])\n",
    "tts = gTTS(text=name+' Do you have a hearing disability? Click Yes or No', lang='en')\n",
    "tts.save(\"answer.mp3\") \n",
    "os.system(\"afplay answer.mp3\")\n",
    "container = widgets.HBox(children=[button1,button2])\n",
    "display(container)\n",
    "\n",
    "    \n",
    "def on_button1_clicked(b):\n",
    "    choice = b.description\n",
    "    b.color = 'white'\n",
    "    tts = gTTS(text='Sorry ' + name + ' you should consult a professional hearing specialist before using a sonification product. However be assured none of the sounds used in our system are dangerous', lang='en')\n",
    "    tts.save(\"answer.mp3\") \n",
    "    os.system(\"afplay answer.mp3\")\n",
    "    clear_output()\n",
    "        \n",
    "def on_button2_clicked(b):\n",
    "    # [insert code to record choice] \n",
    "    tts = gTTS(text='That is great. However,we advise you take some time reading our next section about a free online listneing test', lang='en')\n",
    "    tts.save(\"answer.mp3\") \n",
    "    os.system(\"afplay answer.mp3\")\n",
    "    container.close()\n",
    "    clear_output()\n",
    "\n",
    "button1.on_click(on_button1_clicked)\n",
    "button2.on_click(on_button2_clicked)\n",
    "\n",
    "    \n",
    "\n",
    "\n",
    "    \n",
    "\n",
    "      \n",
    "\n",
    "\n",
    "        \n"
   ]
  },
  {
   "cell_type": "code",
   "execution_count": 13,
   "metadata": {},
   "outputs": [
    {
     "name": "stdout",
     "output_type": "stream",
     "text": [
      "\n"
     ]
    }
   ],
   "source": []
  },
  {
   "cell_type": "code",
   "execution_count": null,
   "metadata": {},
   "outputs": [],
   "source": []
  }
 ],
 "metadata": {
  "kernelspec": {
   "display_name": "Python 3",
   "language": "python",
   "name": "python3"
  },
  "language_info": {
   "codemirror_mode": {
    "name": "ipython",
    "version": 3
   },
   "file_extension": ".py",
   "mimetype": "text/x-python",
   "name": "python",
   "nbconvert_exporter": "python",
   "pygments_lexer": "ipython3",
   "version": "3.6.3"
  }
 },
 "nbformat": 4,
 "nbformat_minor": 2
}
